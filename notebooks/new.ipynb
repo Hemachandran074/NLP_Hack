{
 "cells": [
  {
   "cell_type": "code",
   "execution_count": 7,
   "metadata": {},
   "outputs": [
    {
     "name": "stdout",
     "output_type": "stream",
     "text": [
      "Training SimpleRNN model...\n",
      "Epoch 1/5\n"
     ]
    },
    {
     "name": "stderr",
     "output_type": "stream",
     "text": [
      "d:\\Hackathon\\venv\\Lib\\site-packages\\keras\\src\\layers\\core\\embedding.py:90: UserWarning: Argument `input_length` is deprecated. Just remove it.\n",
      "  warnings.warn(\n"
     ]
    },
    {
     "name": "stdout",
     "output_type": "stream",
     "text": [
      "\u001b[1m1874/1874\u001b[0m \u001b[32m━━━━━━━━━━━━━━━━━━━━\u001b[0m\u001b[37m\u001b[0m \u001b[1m18s\u001b[0m 9ms/step - accuracy: 0.6792 - loss: 1.0720 - val_accuracy: 0.7115 - val_loss: 0.8790\n",
      "Epoch 2/5\n",
      "\u001b[1m1874/1874\u001b[0m \u001b[32m━━━━━━━━━━━━━━━━━━━━\u001b[0m\u001b[37m\u001b[0m \u001b[1m16s\u001b[0m 8ms/step - accuracy: 0.7387 - loss: 0.7981 - val_accuracy: 0.6791 - val_loss: 0.9387\n",
      "Epoch 3/5\n",
      "\u001b[1m1874/1874\u001b[0m \u001b[32m━━━━━━━━━━━━━━━━━━━━\u001b[0m\u001b[37m\u001b[0m \u001b[1m16s\u001b[0m 8ms/step - accuracy: 0.7619 - loss: 0.7325 - val_accuracy: 0.6813 - val_loss: 0.9492\n",
      "Epoch 4/5\n",
      "\u001b[1m1874/1874\u001b[0m \u001b[32m━━━━━━━━━━━━━━━━━━━━\u001b[0m\u001b[37m\u001b[0m \u001b[1m16s\u001b[0m 8ms/step - accuracy: 0.7736 - loss: 0.6964 - val_accuracy: 0.6597 - val_loss: 1.0502\n",
      "Epoch 5/5\n",
      "\u001b[1m1874/1874\u001b[0m \u001b[32m━━━━━━━━━━━━━━━━━━━━\u001b[0m\u001b[37m\u001b[0m \u001b[1m16s\u001b[0m 8ms/step - accuracy: 0.7725 - loss: 0.7015 - val_accuracy: 0.6726 - val_loss: 1.0064\n",
      "\u001b[1m586/586\u001b[0m \u001b[32m━━━━━━━━━━━━━━━━━━━━\u001b[0m\u001b[37m\u001b[0m \u001b[1m2s\u001b[0m 3ms/step\n",
      "Training LSTM model...\n",
      "Epoch 1/5\n"
     ]
    },
    {
     "name": "stderr",
     "output_type": "stream",
     "text": [
      "d:\\Hackathon\\venv\\Lib\\site-packages\\keras\\src\\layers\\core\\embedding.py:90: UserWarning: Argument `input_length` is deprecated. Just remove it.\n",
      "  warnings.warn(\n"
     ]
    },
    {
     "name": "stdout",
     "output_type": "stream",
     "text": [
      "\u001b[1m1874/1874\u001b[0m \u001b[32m━━━━━━━━━━━━━━━━━━━━\u001b[0m\u001b[37m\u001b[0m \u001b[1m32s\u001b[0m 16ms/step - accuracy: 0.6995 - loss: 1.0070 - val_accuracy: 0.7440 - val_loss: 0.7632\n",
      "Epoch 2/5\n",
      "\u001b[1m1874/1874\u001b[0m \u001b[32m━━━━━━━━━━━━━━━━━━━━\u001b[0m\u001b[37m\u001b[0m \u001b[1m29s\u001b[0m 16ms/step - accuracy: 0.7589 - loss: 0.7083 - val_accuracy: 0.7518 - val_loss: 0.7202\n",
      "Epoch 3/5\n",
      "\u001b[1m1874/1874\u001b[0m \u001b[32m━━━━━━━━━━━━━━━━━━━━\u001b[0m\u001b[37m\u001b[0m \u001b[1m29s\u001b[0m 16ms/step - accuracy: 0.7923 - loss: 0.6106 - val_accuracy: 0.7516 - val_loss: 0.7184\n",
      "Epoch 4/5\n",
      "\u001b[1m1874/1874\u001b[0m \u001b[32m━━━━━━━━━━━━━━━━━━━━\u001b[0m\u001b[37m\u001b[0m \u001b[1m29s\u001b[0m 16ms/step - accuracy: 0.8235 - loss: 0.5210 - val_accuracy: 0.7440 - val_loss: 0.7649\n",
      "Epoch 5/5\n",
      "\u001b[1m1874/1874\u001b[0m \u001b[32m━━━━━━━━━━━━━━━━━━━━\u001b[0m\u001b[37m\u001b[0m \u001b[1m29s\u001b[0m 16ms/step - accuracy: 0.8542 - loss: 0.4336 - val_accuracy: 0.7366 - val_loss: 0.8270\n",
      "\u001b[1m586/586\u001b[0m \u001b[32m━━━━━━━━━━━━━━━━━━━━\u001b[0m\u001b[37m\u001b[0m \u001b[1m3s\u001b[0m 4ms/step\n",
      "Training GRU model...\n",
      "Epoch 1/5\n"
     ]
    },
    {
     "name": "stderr",
     "output_type": "stream",
     "text": [
      "d:\\Hackathon\\venv\\Lib\\site-packages\\keras\\src\\layers\\core\\embedding.py:90: UserWarning: Argument `input_length` is deprecated. Just remove it.\n",
      "  warnings.warn(\n"
     ]
    },
    {
     "name": "stdout",
     "output_type": "stream",
     "text": [
      "\u001b[1m1874/1874\u001b[0m \u001b[32m━━━━━━━━━━━━━━━━━━━━\u001b[0m\u001b[37m\u001b[0m \u001b[1m39s\u001b[0m 20ms/step - accuracy: 0.6999 - loss: 0.9985 - val_accuracy: 0.7520 - val_loss: 0.7374\n",
      "Epoch 2/5\n",
      "\u001b[1m1874/1874\u001b[0m \u001b[32m━━━━━━━━━━━━━━━━━━━━\u001b[0m\u001b[37m\u001b[0m \u001b[1m36s\u001b[0m 19ms/step - accuracy: 0.7741 - loss: 0.6753 - val_accuracy: 0.7440 - val_loss: 0.7137\n",
      "Epoch 3/5\n",
      "\u001b[1m1874/1874\u001b[0m \u001b[32m━━━━━━━━━━━━━━━━━━━━\u001b[0m\u001b[37m\u001b[0m \u001b[1m36s\u001b[0m 19ms/step - accuracy: 0.8051 - loss: 0.5775 - val_accuracy: 0.7502 - val_loss: 0.7377\n",
      "Epoch 4/5\n",
      "\u001b[1m1874/1874\u001b[0m \u001b[32m━━━━━━━━━━━━━━━━━━━━\u001b[0m\u001b[37m\u001b[0m \u001b[1m36s\u001b[0m 19ms/step - accuracy: 0.8395 - loss: 0.4730 - val_accuracy: 0.7362 - val_loss: 0.8033\n",
      "Epoch 5/5\n",
      "\u001b[1m1874/1874\u001b[0m \u001b[32m━━━━━━━━━━━━━━━━━━━━\u001b[0m\u001b[37m\u001b[0m \u001b[1m35s\u001b[0m 19ms/step - accuracy: 0.8777 - loss: 0.3731 - val_accuracy: 0.7226 - val_loss: 0.9417\n",
      "\u001b[1m586/586\u001b[0m \u001b[32m━━━━━━━━━━━━━━━━━━━━\u001b[0m\u001b[37m\u001b[0m \u001b[1m3s\u001b[0m 5ms/step\n",
      "Training Bi-LSTM model...\n",
      "Epoch 1/5\n"
     ]
    },
    {
     "name": "stderr",
     "output_type": "stream",
     "text": [
      "d:\\Hackathon\\venv\\Lib\\site-packages\\keras\\src\\layers\\core\\embedding.py:90: UserWarning: Argument `input_length` is deprecated. Just remove it.\n",
      "  warnings.warn(\n"
     ]
    },
    {
     "name": "stdout",
     "output_type": "stream",
     "text": [
      "\u001b[1m1874/1874\u001b[0m \u001b[32m━━━━━━━━━━━━━━━━━━━━\u001b[0m\u001b[37m\u001b[0m \u001b[1m41s\u001b[0m 20ms/step - accuracy: 0.7156 - loss: 0.9357 - val_accuracy: 0.7424 - val_loss: 0.7695\n",
      "Epoch 2/5\n",
      "\u001b[1m1874/1874\u001b[0m \u001b[32m━━━━━━━━━━━━━━━━━━━━\u001b[0m\u001b[37m\u001b[0m \u001b[1m37s\u001b[0m 20ms/step - accuracy: 0.7605 - loss: 0.7185 - val_accuracy: 0.7494 - val_loss: 0.7397\n",
      "Epoch 3/5\n",
      "\u001b[1m1874/1874\u001b[0m \u001b[32m━━━━━━━━━━━━━━━━━━━━\u001b[0m\u001b[37m\u001b[0m \u001b[1m40s\u001b[0m 21ms/step - accuracy: 0.7857 - loss: 0.6310 - val_accuracy: 0.7465 - val_loss: 0.7416\n",
      "Epoch 4/5\n",
      "\u001b[1m1874/1874\u001b[0m \u001b[32m━━━━━━━━━━━━━━━━━━━━\u001b[0m\u001b[37m\u001b[0m \u001b[1m55s\u001b[0m 30ms/step - accuracy: 0.8120 - loss: 0.5537 - val_accuracy: 0.7479 - val_loss: 0.7632\n",
      "Epoch 5/5\n",
      "\u001b[1m1874/1874\u001b[0m \u001b[32m━━━━━━━━━━━━━━━━━━━━\u001b[0m\u001b[37m\u001b[0m \u001b[1m37s\u001b[0m 20ms/step - accuracy: 0.8437 - loss: 0.4683 - val_accuracy: 0.7418 - val_loss: 0.8346\n",
      "\u001b[1m586/586\u001b[0m \u001b[32m━━━━━━━━━━━━━━━━━━━━\u001b[0m\u001b[37m\u001b[0m \u001b[1m3s\u001b[0m 6ms/step\n",
      "       Model  AUC_Score\n",
      "2        GRU   0.859584\n",
      "3    Bi-LSTM   0.856443\n",
      "1       LSTM   0.831739\n",
      "0  SimpleRNN   0.771870\n"
     ]
    },
    {
     "ename": "",
     "evalue": "",
     "output_type": "error",
     "traceback": [
      "\u001b[1;31mThe Kernel crashed while executing code in the current cell or a previous cell. \n",
      "\u001b[1;31mPlease review the code in the cell(s) to identify a possible cause of the failure. \n",
      "\u001b[1;31mClick <a href='https://aka.ms/vscodeJupyterKernelCrash'>here</a> for more info. \n",
      "\u001b[1;31mView Jupyter <a href='command:jupyter.viewOutput'>log</a> for further details."
     ]
    }
   ],
   "source": [
    "import pandas as pd\n",
    "import numpy as np\n",
    "from sklearn.model_selection import train_test_split\n",
    "from sklearn.preprocessing import LabelEncoder\n",
    "from tensorflow.keras.preprocessing.text import Tokenizer\n",
    "from tensorflow.keras.preprocessing.sequence import pad_sequences\n",
    "from tensorflow.keras.utils import to_categorical\n",
    "from tensorflow.keras.models import Sequential\n",
    "from tensorflow.keras.layers import Embedding, SimpleRNN, LSTM, GRU, Dense, Bidirectional\n",
    "from sklearn.metrics import roc_auc_score\n",
    "\n",
    "# Load your dataset\n",
    "data = pd.read_csv(\"train.csv\")  # Replace with your actual file path\n",
    "\n",
    "# Preprocess the target column\n",
    "encoder = LabelEncoder()\n",
    "data['category'] = encoder.fit_transform(data['category'])  # Adjust to 'category' or 'sub-category' as needed\n",
    "num_classes = len(encoder.classes_)\n",
    "\n",
    "# Handle missing or non-string values in 'crimeaditionalinfo' column\n",
    "data['crimeaditionalinfo'] = data['crimeaditionalinfo'].fillna(\"\").astype(str)\n",
    "\n",
    "# Tokenize and Pad Sequences\n",
    "tokenizer = Tokenizer(num_words=10000)\n",
    "tokenizer.fit_on_texts(data['crimeaditionalinfo'])\n",
    "X = tokenizer.texts_to_sequences(data['crimeaditionalinfo'])\n",
    "X = pad_sequences(X, maxlen=100)  # Set maxlen based on the average text length in your dataset\n",
    "\n",
    "# Convert labels to categorical (one-hot encoded) format for multi-class classification\n",
    "y = to_categorical(data['category'], num_classes=num_classes)\n",
    "\n",
    "# Train-test split\n",
    "X_train, X_test, y_train, y_test = train_test_split(X, y, test_size=0.2, random_state=42)\n",
    "\n",
    "# Define a function to build different models\n",
    "def build_model(model_type):\n",
    "    model = Sequential()\n",
    "    model.add(Embedding(input_dim=10000, output_dim=128, input_length=100))\n",
    "    if model_type == 'SimpleRNN':\n",
    "        model.add(SimpleRNN(64))\n",
    "    elif model_type == 'LSTM':\n",
    "        model.add(LSTM(64))\n",
    "    elif model_type == 'GRU':\n",
    "        model.add(GRU(64))\n",
    "    elif model_type == 'Bi-LSTM':\n",
    "        model.add(Bidirectional(LSTM(64)))\n",
    "    model.add(Dense(num_classes, activation='softmax'))  # Use softmax for multi-class classification\n",
    "    model.compile(optimizer='adam', loss='categorical_crossentropy', metrics=['accuracy'])\n",
    "    return model\n",
    "\n",
    "# Train and evaluate each model\n",
    "results = []\n",
    "for model_type in ['SimpleRNN', 'LSTM', 'GRU', 'Bi-LSTM']:\n",
    "    print(f\"Training {model_type} model...\")\n",
    "    model = build_model(model_type)\n",
    "    model.fit(X_train, y_train, epochs=5, batch_size=32, validation_split=0.2, verbose=1)\n",
    "    \n",
    "    # Predict and evaluate\n",
    "    y_pred = model.predict(X_test)\n",
    "    \n",
    "    # Calculate AUC score for multi-class classification using the 'ovr' strategy\n",
    "    try:\n",
    "        auc_score = roc_auc_score(y_test, y_pred, multi_class='ovr')\n",
    "    except ValueError:\n",
    "        auc_score = roc_auc_score(y_test, y_pred)\n",
    "\n",
    "    results.append({'Model': model_type, 'AUC_Score': auc_score})\n",
    "\n",
    "# Convert results to DataFrame and display\n",
    "results_df = pd.DataFrame(results).sort_values(by='AUC_Score', ascending=False)\n",
    "print(results_df)\n"
   ]
  },
  {
   "cell_type": "code",
   "execution_count": null,
   "metadata": {},
   "outputs": [],
   "source": []
  }
 ],
 "metadata": {
  "kernelspec": {
   "display_name": "Python 3",
   "language": "python",
   "name": "python3"
  },
  "language_info": {
   "codemirror_mode": {
    "name": "ipython",
    "version": 3
   },
   "file_extension": ".py",
   "mimetype": "text/x-python",
   "name": "python",
   "nbconvert_exporter": "python",
   "pygments_lexer": "ipython3",
   "version": "3.12.7"
  }
 },
 "nbformat": 4,
 "nbformat_minor": 2
}
