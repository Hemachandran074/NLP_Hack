{
 "cells": [
  {
   "cell_type": "code",
   "execution_count": 6,
   "metadata": {},
   "outputs": [
    {
     "name": "stdout",
     "output_type": "stream",
     "text": [
      "Model and encoders have been saved!\n"
     ]
    }
   ],
   "source": [
    "import pandas as pd\n",
    "import pickle\n",
    "import string\n",
    "from sklearn.model_selection import train_test_split\n",
    "from sklearn.feature_extraction.text import TfidfVectorizer\n",
    "from sklearn.linear_model import LogisticRegression\n",
    "from sklearn.multioutput import MultiOutputClassifier\n",
    "from sklearn.preprocessing import LabelEncoder\n",
    "from sklearn.pipeline import Pipeline\n",
    "from sklearn.metrics import accuracy_score\n",
    "\n",
    "# Step 1: Load your dataset\n",
    "df = pd.read_csv(\"new.csv\")\n",
    "\n",
    "# Step 2: Remove rows with NaN values in the 'processed_info' column\n",
    "df = df.dropna(subset=['crimeaditionalinfo'])\n",
    "\n",
    "# Step 3: Remove punctuation from the 'processed_info' column\n",
    "df['crimeaditionalinfo'] = df['crimeaditionalinfo'].str.translate(str.maketrans('', '', string.punctuation))\n",
    "\n",
    "# Step 4: Encode the target columns (category and sub_category) as numeric values\n",
    "category_encoder = LabelEncoder()\n",
    "sub_category_encoder = LabelEncoder()\n",
    "\n",
    "df['category'] = category_encoder.fit_transform(df['category'])\n",
    "df['sub_category'] = sub_category_encoder.fit_transform(df['sub_category'])\n",
    "\n",
    "# Step 5: Split the data into train and test sets\n",
    "X = df['crimeaditionalinfo']  # Input text\n",
    "y = df[['category', 'sub_category']]  # Output labels (multi-label)\n",
    "\n",
    "X_train, X_test, y_train, y_test = train_test_split(X, y, test_size=0.2, random_state=42)\n",
    "\n",
    "# Step 6: Create a TF-IDF vectorizer\n",
    "vectorizer = TfidfVectorizer(stop_words='english', max_features=5000)  # Limit to top 5000 words\n",
    "\n",
    "# Step 7: Build the pipeline\n",
    "pipeline = Pipeline([\n",
    "    ('tfidf', vectorizer),\n",
    "    ('clf', MultiOutputClassifier(LogisticRegression(max_iter=1000)))\n",
    "])\n",
    "\n",
    "# Step 8: Train the model\n",
    "pipeline.fit(X_train, y_train)\n",
    "\n",
    "# Step 9: Make predictions on the test set\n",
    "y_pred = pipeline.predict(X_test)\n",
    "\n",
    "# Step 10: Calculate accuracy for both category and sub_category\n",
    "category_accuracy = accuracy_score(y_test['category'], y_pred[:, 0])\n",
    "sub_category_accuracy = accuracy_score(y_test['sub_category'], y_pred[:, 1])\n",
    "\n",
    "# Step 11: Print accuracy scores\n",
    "print(f\"Category Accuracy: {category_accuracy * 100:.2f}%\")\n",
    "print(f\"Sub-Category Accuracy: {sub_category_accuracy * 100:.2f}%\")\n",
    "\n",
    "# Step 12: Save the model, vectorizer, and encoders\n",
    "with open('crime_model.pkl', 'wb') as f:\n",
    "    pickle.dump(pipeline, f)\n",
    "\n",
    "with open('category_encoder.pkl', 'wb') as f:\n",
    "    pickle.dump(category_encoder, f)\n",
    "\n",
    "with open('sub_category_encoder.pkl', 'wb') as f:\n",
    "    pickle.dump(sub_category_encoder, f)\n",
    "\n",
    "print(\"Model and encoders have been saved!\")\n"
   ]
  },
  {
   "cell_type": "code",
   "execution_count": 3,
   "metadata": {},
   "outputs": [],
   "source": []
  },
  {
   "cell_type": "code",
   "execution_count": null,
   "metadata": {},
   "outputs": [],
   "source": []
  }
 ],
 "metadata": {
  "kernelspec": {
   "display_name": "Python 3",
   "language": "python",
   "name": "python3"
  },
  "language_info": {
   "codemirror_mode": {
    "name": "ipython",
    "version": 3
   },
   "file_extension": ".py",
   "mimetype": "text/x-python",
   "name": "python",
   "nbconvert_exporter": "python",
   "pygments_lexer": "ipython3",
   "version": "3.12.7"
  }
 },
 "nbformat": 4,
 "nbformat_minor": 2
}
